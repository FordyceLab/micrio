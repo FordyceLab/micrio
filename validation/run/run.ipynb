{
 "cells": [
  {
   "cell_type": "markdown",
   "metadata": {},
   "source": [
    "# SETUP"
   ]
  },
  {
   "cell_type": "code",
   "execution_count": 1,
   "metadata": {
    "collapsed": true
   },
   "outputs": [],
   "source": [
    "from acqpack import Manifold, Mfcs\n",
    "from acqpack import Motor, AsiController, Autosampler, FractionCollector\n",
    "from acqpack import utils as ut\n",
    "from acqpack import gui\n",
    "import pandas as pd\n",
    "import time"
   ]
  },
  {
   "cell_type": "code",
   "execution_count": 2,
   "metadata": {},
   "outputs": [
    {
     "name": "stdout",
     "output_type": "stream",
     "text": [
      "MFCS initialized. SN: 1149\n",
      "PID alpha: 2\n",
      "Pressure units: psi\n"
     ]
    }
   ],
   "source": [
    "p = Mfcs('config/mfcs/mfcs.yaml', 'config/mfcs/chanmap.txt')"
   ]
  },
  {
   "cell_type": "code",
   "execution_count": 3,
   "metadata": {
    "collapsed": true
   },
   "outputs": [],
   "source": [
    "m = Manifold(\"192.168.1.3\", 'config/manifold/valvemap.txt')\n",
    "# gui.manifold_control(m)"
   ]
  },
  {
   "cell_type": "code",
   "execution_count": 4,
   "metadata": {},
   "outputs": [
    {
     "name": "stdout",
     "output_type": "stream",
     "text": [
      "(-41.447, -2.163, 0.000) hardware\n",
      "(2.493, 12.749, 99.600) wash\n",
      "(2.493, 12.749, 99.600) plate\n"
     ]
    }
   ],
   "source": [
    "a = Autosampler(Motor('config/sampler/motor.yaml'),  AsiController('config/sampler/asi.yaml'))\n",
    "a.add_frame('wash', 'config/sampler/deck.txt', 'config/sampler/4scint.txt')\n",
    "a.add_frame('plate', 'config/sampler/deck.txt', 'config/sampler/96plate.txt')\n",
    "gui.stage_control(a)"
   ]
  },
  {
   "cell_type": "code",
   "execution_count": 29,
   "metadata": {
    "collapsed": true
   },
   "outputs": [],
   "source": [
    "a.goto('wash', 'contents', 'waste', zh_travel=30)"
   ]
  },
  {
   "cell_type": "code",
   "execution_count": null,
   "metadata": {
    "collapsed": true
   },
   "outputs": [],
   "source": [
    "a.goto('plate','well','A01')"
   ]
  },
  {
   "cell_type": "code",
   "execution_count": null,
   "metadata": {
    "collapsed": true
   },
   "outputs": [],
   "source": [
    "a.goto('wash','xyz',(0,0,50))"
   ]
  },
  {
   "cell_type": "code",
   "execution_count": 5,
   "metadata": {},
   "outputs": [
    {
     "name": "stdout",
     "output_type": "stream",
     "text": [
      "(0.000, 0.000) hardware\n",
      "(0.000, 0.000) plate\n"
     ]
    },
    {
     "data": {
      "application/vnd.jupyter.widget-view+json": {
       "model_id": "629c9013e7664a628e8210ba286dc4ce"
      }
     },
     "metadata": {},
     "output_type": "display_data"
    }
   ],
   "source": [
    "f = FractionCollector(AsiController('config/collector/asi.yaml'))\n",
    "f.add_frame('plate', 'config/collector/deck.txt', 'config/collector/48vial.txt')\n",
    "gui.stage_control(f)"
   ]
  },
  {
   "cell_type": "code",
   "execution_count": 24,
   "metadata": {
    "collapsed": true
   },
   "outputs": [],
   "source": [
    "f.add_frame('plate', 'config/collector/deck.txt', 'config/collector/48vial.txt')\n"
   ]
  },
  {
   "cell_type": "code",
   "execution_count": 7,
   "metadata": {
    "collapsed": true
   },
   "outputs": [],
   "source": [
    "f.goto('plate','contents','waste1')"
   ]
  },
  {
   "cell_type": "code",
   "execution_count": null,
   "metadata": {
    "collapsed": true
   },
   "outputs": [],
   "source": [
    "# !!!! Also must have MM folder on system PATH\n",
    "\n",
    "# mm_version = 'C:\\Program Files\\Micro-Manager-1.4'\n",
    "# cfg = r'C:\\Users\\4DICE\\Documents\\beadsynthesis_withstage_nofraction.cfg'\n",
    "# import sys\n",
    "# sys.path.insert(0, mm_version) # make it so python can find MMCorePy\n",
    "# import MMCorePy\n",
    "# from PIL import Image\n",
    "# core = MMCorePy.CMMCore()\n",
    "# core.loadSystemConfiguration(cfg)"
   ]
  },
  {
   "cell_type": "code",
   "execution_count": null,
   "metadata": {
    "collapsed": true
   },
   "outputs": [],
   "source": [
    "# gui.video(core)"
   ]
  },
  {
   "cell_type": "code",
   "execution_count": 8,
   "metadata": {
    "collapsed": true
   },
   "outputs": [],
   "source": [
    "# FUNCTIONS\n",
    "def timestamp():\n",
    "    return time.strftime(\"%Y%m%d_%H:%M:%S\", time.localtime())\n",
    "\n",
    "def log(msg):\n",
    "    msg = ' '.join([timestamp(), msg])\n",
    "    l.append(msg)\n",
    "    print msg\n",
    "    \n",
    "    \n",
    "def plc(i):\n",
    "    if i==1:\n",
    "        m.close('name', 'plc')\n",
    "    else:\n",
    "        m.open('name', 'plc')\n",
    "        \n",
    "def bulb(i):\n",
    "    if i==1:\n",
    "        m.close('name', 'lamp')\n",
    "    else:\n",
    "        m.open('name', 'lamp')\n",
    "    \n",
    "def shutter(i):\n",
    "    if i==1:\n",
    "        m.close('name', 'shutter')\n",
    "    else:\n",
    "        m.open('name', 'shutter')        \n",
    "            \n",
    "\n",
    "def init_valves():\n",
    "    m.close('name', 'drops')\n",
    "    m.close('name', 'mix_waste')\n",
    "    m.close('name', 'waste')\n",
    "\n",
    "    m.close('input', 'wash')\n",
    "    m.close('input', 'sampler')\n",
    "    \n",
    "    m.close('name', 'r0')\n",
    "    m.close('name', 'r1') \n",
    "    m.open('name', 'r2') # use r2\n",
    "\n",
    "def close_valves():\n",
    "    m.close('name', 'drops')\n",
    "    m.close('name', 'mix_waste')\n",
    "    m.close('name', 'waste')\n",
    "\n",
    "    m.close('input', 'wash')\n",
    "    m.close('input', 'sampler')\n",
    "    \n",
    "    m.close('name', 'r0')\n",
    "    m.close('name', 'r1')\n",
    "    m.close('name', 'r2')\n",
    "    \n",
    "    \n",
    "def sheath():\n",
    "    p.pid(4,5)\n",
    "    p.set('name','sheath', 25)\n",
    "    time.sleep(2.5)\n",
    "    p.set('name', 'sheath', 0)\n",
    "    time.sleep(3.5)"
   ]
  },
  {
   "cell_type": "code",
   "execution_count": 11,
   "metadata": {
    "collapsed": true
   },
   "outputs": [],
   "source": [
    "sheath()"
   ]
  },
  {
   "cell_type": "markdown",
   "metadata": {},
   "source": [
    "# SCRIPT"
   ]
  },
  {
   "cell_type": "markdown",
   "metadata": {},
   "source": [
    "- 255 um diameter tubing, ~ 35-40 cm\n",
    "- see platemap\n",
    "- Oil: 4.19 psi\n",
    "- In2: 0.87 psi"
   ]
  },
  {
   "cell_type": "code",
   "execution_count": 26,
   "metadata": {
    "collapsed": true
   },
   "outputs": [],
   "source": [
    "def setup(sec_bulb_min, sec_purge, code_blank):\n",
    "    log('SETUP')\n",
    "    shutter(0)\n",
    "    plc(1)\n",
    "    bulb(1)\n",
    "    t_start = time.time()\n",
    "    \n",
    "    a.home()\n",
    "    log('sampler at home')\n",
    "    f.goto('plate', 'contents', 'waste1')\n",
    "    log('collector at plate::name=waste1')\n",
    "\n",
    "    init_valves()\n",
    "\n",
    "    flush(30,30)\n",
    "    \n",
    "    log('purging air {} sec'.format(sec_purge))\n",
    "    m.open('input','wash')\n",
    "    m.open('name', 'waste')\n",
    "    time.sleep(sec_purge)\n",
    "    init_valves()\n",
    "    \n",
    "    t_elapsed = time.time() - t_start\n",
    "    t_remaining = sec_bulb_min - t_elapsed\n",
    "    \n",
    "    \n",
    "    if t_remaining < 0:\n",
    "        log('setup in {} sec; bulb is ready ({} minimum)'.format(t_elapsed, sec_bulb_min))\n",
    "        t_remaining = 0\n",
    "    else:\n",
    "        log('setup in {} sec; bulb ready in {} additional sec'.format(t_elapsed, t_remaining)) \n",
    "    time.sleep(t_remaining)\n",
    "    \n",
    "    # manually adjust droplet pressures\n",
    "    prime(code_blank, 30)\n",
    "    log('loading blank code...')\n",
    "    \n",
    "    for k, v in p_table.loc['beads'].iteritems():\n",
    "        p.set('name', k, v) \n",
    "    m.open('input','sampler')\n",
    "    log('manually adjusting pressures...')\n",
    "    raw_input('position scope to OUT; press enter when drops are stable')\n",
    "    p_table.loc[['prime','beads'],'oil'] = p.read('name', 'oil')\n",
    "    p_table.loc['beads','sampler'] = p.read('name', 'sampler')\n",
    "\n",
    "    flush(30,30)\n",
    "\n",
    "    \n",
    "\n",
    "# sample_n -> waste   \n",
    "def prime(code, sec):\n",
    "    log('{} PRIME {} {}'.format(code.name, code['well'], code['code']))\n",
    "    a.goto('plate', 'n', code['n'], zh_travel=30)\n",
    "    log('sampler at plate::well={} c={}'.format(code['well'], code['code']))\n",
    "    for k, v in p_table.loc['prime'].iteritems():\n",
    "        p.set('name', k, v)\n",
    "    \n",
    "    m.open('name', 'mix_waste')\n",
    "    m.open('name', 'waste')\n",
    "    m.open('input', 'sampler')\n",
    "    time.sleep(sec)\n",
    "    \n",
    "    init_valves()\n",
    "\n",
    "    \n",
    "# sample_n -> outlet\n",
    "def beads(code, vial, sec_stabilize, sec_polymerize):\n",
    "    # switch collector wells\n",
    "    sheath()\n",
    "    \n",
    "    log('{} BEADS {} {}'.format(code.name, code['well'], code['code']))\n",
    "    for k, v in p_table.loc['beads'].iteritems():\n",
    "        p.set('name', k, v)\n",
    "    \n",
    "    f.goto('plate', 'vial', vial)\n",
    "    log('collector at plate::vial={} c={}'.format(vial, code['code']))\n",
    "    collect = f.frames['plate'].position_table\n",
    "    collect.loc[collect.vial==vial, 'contents'] = code['code']  # record contents\n",
    "    \n",
    "    m.open('input','sampler')\n",
    "    m.open('name', 'drops')\n",
    "    log('stabilizing vial={} {} for {} sec'.format(vial, code['code'], sec_stabilize))\n",
    "    time.sleep(sec_stabilize)\n",
    "    \n",
    "    log('polymerizing vial={} {} for {} sec'.format(vial, code['code'], sec_polymerize))\n",
    "    shutter(1)\n",
    "    time.sleep(sec_polymerize)\n",
    "    shutter(0)\n",
    "    \n",
    "    init_valves()\n",
    "\n",
    "\n",
    "# wash -> sampler\n",
    "# meanwhile: flush outlet       \n",
    "# wash -> waste \n",
    "# meanwhile: wash needle\n",
    "# meanwhile: flush outlet\n",
    "def flush(sec_bkflush=30, sec_fwdflush=30):\n",
    "    log('FLUSH')\n",
    "    for k, v in p_table.loc['flush'].iteritems():\n",
    "        p.set('name', k, v)\n",
    "\n",
    "    # briefly fwd flush\n",
    "    m.open('name', 'mix_waste')\n",
    "    m.open('name', 'waste')\n",
    "    m.open('input', 'wash')\n",
    "    time.sleep(2)\n",
    "    init_valves()\n",
    "\n",
    "    # increase oil flow rate (do after init_valves() above)\n",
    "    m.close('name', 'r2')\n",
    "    m.open('name', 'r0')\n",
    "\n",
    "    # bck flush\n",
    "    log('flushing back {} sec'.format(sec_bkflush))\n",
    "    a.goto('wash', 'contents', 'waste')\n",
    "    log('sampler at wash::contents=water')\n",
    "    m.open('input', 'wash')\n",
    "    m.open('input', 'sampler')\n",
    "    time.sleep(sec_bkflush)\n",
    "    m.close('input', 'sampler')\n",
    "\n",
    "    # fwd flush\n",
    "    log('flushing forward {} sec'.format(sec_fwdflush))\n",
    "    m.open('name', 'mix_waste')\n",
    "    m.open('name', 'waste')\n",
    "    # meanwhile: wash needle\n",
    "    t_start = time.time()\n",
    "    a.goto('wash', 'contents', 'ipa', zh_travel=30)\n",
    "    log('sampler at wash::contents=ipa')\n",
    "    time.sleep(4) # pause briefly in ipa\n",
    "    a.goto('wash', 'contents', 'water', zh_travel=30)\n",
    "    log('sampler at wash::contents=water')\n",
    "    t_elapsed = time.time() - t_start\n",
    "    t_remaining = sec_fwdflush - t_elapsed\n",
    "    if t_remaining < 0:\n",
    "        log('desired flush_fwd of {} sec insufficient for needle wash; flushed {} sec'.format(sec_fwdflush, t_elapsed))\n",
    "        t_remaining = 0\n",
    "    time.sleep(t_remaining)\n",
    "    \n",
    "    # toggle drops\n",
    "    m.close('name', 'r0')\n",
    "    m.open('name', 'drops')\n",
    "    time.sleep(1)\n",
    "\n",
    "    init_valves()\n",
    "    sheath()\n",
    "\n",
    "    \n",
    "\n",
    "def cleanup(bulb_state=0):\n",
    "    log('CLEANUP')\n",
    "    bulb(bulb_state)\n",
    "    f.goto('plate', 'contents', 'waste2')\n",
    "    log('collector at plate::name={}'.format('waste2'))\n",
    "\n",
    "    flush(20,20)\n",
    "    \n",
    "    a.goto('wash', 'contents', 'waste')\n",
    "    log('sampler at wash::name={}'.format('waste'))\n",
    "    \n",
    "    close_valves()\n",
    "    for k, _ in p_table.loc['beads'].iteritems():\n",
    "        p.set('name', k, 0.15) \n",
    "\n",
    "    # save\n",
    "    p_table.to_csv('pressures.csv', sep='\\t')  # pressures\n",
    "    f.frames['plate'].position_table.to_csv('collected_plate.csv', index=False, sep='\\t')  # collection record\n",
    "    pd.DataFrame(l).to_csv('log.txt', index=False, header=False) # log\n",
    "\n",
    "    log('DONE')"
   ]
  },
  {
   "cell_type": "code",
   "execution_count": 13,
   "metadata": {},
   "outputs": [
    {
     "data": {
      "text/html": [
       "<div>\n",
       "<table border=\"1\" class=\"dataframe\">\n",
       "  <thead>\n",
       "    <tr style=\"text-align: right;\">\n",
       "      <th></th>\n",
       "      <th>n</th>\n",
       "      <th>s</th>\n",
       "      <th>r</th>\n",
       "      <th>c</th>\n",
       "      <th>well</th>\n",
       "      <th>code</th>\n",
       "      <th>series</th>\n",
       "      <th>x</th>\n",
       "      <th>y</th>\n",
       "      <th>z</th>\n",
       "    </tr>\n",
       "  </thead>\n",
       "  <tbody>\n",
       "    <tr>\n",
       "      <th>0</th>\n",
       "      <td>0</td>\n",
       "      <td>0</td>\n",
       "      <td>0</td>\n",
       "      <td>0</td>\n",
       "      <td>A01</td>\n",
       "      <td>eu</td>\n",
       "      <td>0.0</td>\n",
       "      <td>2.493</td>\n",
       "      <td>12.749</td>\n",
       "      <td>-0.85</td>\n",
       "    </tr>\n",
       "    <tr>\n",
       "      <th>1</th>\n",
       "      <td>1</td>\n",
       "      <td>1</td>\n",
       "      <td>0</td>\n",
       "      <td>1</td>\n",
       "      <td>A02</td>\n",
       "      <td>dy</td>\n",
       "      <td>0.0</td>\n",
       "      <td>11.493</td>\n",
       "      <td>12.749</td>\n",
       "      <td>-0.85</td>\n",
       "    </tr>\n",
       "    <tr>\n",
       "      <th>2</th>\n",
       "      <td>2</td>\n",
       "      <td>2</td>\n",
       "      <td>0</td>\n",
       "      <td>2</td>\n",
       "      <td>A03</td>\n",
       "      <td>sm</td>\n",
       "      <td>0.0</td>\n",
       "      <td>20.493</td>\n",
       "      <td>12.749</td>\n",
       "      <td>-0.85</td>\n",
       "    </tr>\n",
       "    <tr>\n",
       "      <th>3</th>\n",
       "      <td>41</td>\n",
       "      <td>42</td>\n",
       "      <td>3</td>\n",
       "      <td>5</td>\n",
       "      <td>D06</td>\n",
       "      <td>eu</td>\n",
       "      <td>1.0</td>\n",
       "      <td>47.493</td>\n",
       "      <td>39.749</td>\n",
       "      <td>-0.85</td>\n",
       "    </tr>\n",
       "    <tr>\n",
       "      <th>4</th>\n",
       "      <td>42</td>\n",
       "      <td>41</td>\n",
       "      <td>3</td>\n",
       "      <td>6</td>\n",
       "      <td>D07</td>\n",
       "      <td>dy</td>\n",
       "      <td>1.0</td>\n",
       "      <td>56.493</td>\n",
       "      <td>39.749</td>\n",
       "      <td>-0.85</td>\n",
       "    </tr>\n",
       "    <tr>\n",
       "      <th>5</th>\n",
       "      <td>43</td>\n",
       "      <td>40</td>\n",
       "      <td>3</td>\n",
       "      <td>7</td>\n",
       "      <td>D08</td>\n",
       "      <td>sm</td>\n",
       "      <td>1.0</td>\n",
       "      <td>65.493</td>\n",
       "      <td>39.749</td>\n",
       "      <td>-0.85</td>\n",
       "    </tr>\n",
       "    <tr>\n",
       "      <th>6</th>\n",
       "      <td>93</td>\n",
       "      <td>86</td>\n",
       "      <td>7</td>\n",
       "      <td>9</td>\n",
       "      <td>H10</td>\n",
       "      <td>eu</td>\n",
       "      <td>2.0</td>\n",
       "      <td>83.493</td>\n",
       "      <td>75.749</td>\n",
       "      <td>-0.85</td>\n",
       "    </tr>\n",
       "    <tr>\n",
       "      <th>7</th>\n",
       "      <td>94</td>\n",
       "      <td>85</td>\n",
       "      <td>7</td>\n",
       "      <td>10</td>\n",
       "      <td>H11</td>\n",
       "      <td>dy</td>\n",
       "      <td>2.0</td>\n",
       "      <td>92.493</td>\n",
       "      <td>75.749</td>\n",
       "      <td>-0.85</td>\n",
       "    </tr>\n",
       "    <tr>\n",
       "      <th>8</th>\n",
       "      <td>95</td>\n",
       "      <td>84</td>\n",
       "      <td>7</td>\n",
       "      <td>11</td>\n",
       "      <td>H12</td>\n",
       "      <td>sm</td>\n",
       "      <td>2.0</td>\n",
       "      <td>101.493</td>\n",
       "      <td>75.749</td>\n",
       "      <td>-0.85</td>\n",
       "    </tr>\n",
       "  </tbody>\n",
       "</table>\n",
       "</div>"
      ],
      "text/plain": [
       "    n   s  r   c well code  series        x       y     z\n",
       "0   0   0  0   0  A01   eu     0.0    2.493  12.749 -0.85\n",
       "1   1   1  0   1  A02   dy     0.0   11.493  12.749 -0.85\n",
       "2   2   2  0   2  A03   sm     0.0   20.493  12.749 -0.85\n",
       "3  41  42  3   5  D06   eu     1.0   47.493  39.749 -0.85\n",
       "4  42  41  3   6  D07   dy     1.0   56.493  39.749 -0.85\n",
       "5  43  40  3   7  D08   sm     1.0   65.493  39.749 -0.85\n",
       "6  93  86  7   9  H10   eu     2.0   83.493  75.749 -0.85\n",
       "7  94  85  7  10  H11   dy     2.0   92.493  75.749 -0.85\n",
       "8  95  84  7  11  H12   sm     2.0  101.493  75.749 -0.85"
      ]
     },
     "execution_count": 13,
     "metadata": {},
     "output_type": "execute_result"
    }
   ],
   "source": [
    "platemap = a.frames['plate'].position_table\n",
    "codemap = platemap.loc[platemap['series'].notnull()].reset_index(drop=True)  # rows of platemap that have a code\n",
    "codemap"
   ]
  },
  {
   "cell_type": "code",
   "execution_count": 30,
   "metadata": {},
   "outputs": [
    {
     "data": {
      "text/plain": [
       "n             13\n",
       "s             22\n",
       "r              1\n",
       "c              1\n",
       "well         B02\n",
       "code          bk\n",
       "series       NaN\n",
       "x         11.493\n",
       "y         21.749\n",
       "z          -0.85\n",
       "Name: 13, dtype: object"
      ]
     },
     "execution_count": 30,
     "metadata": {},
     "output_type": "execute_result"
    }
   ],
   "source": [
    "code_blank = platemap[platemap.code=='bk'].iloc[1]\n",
    "code_blank"
   ]
  },
  {
   "cell_type": "code",
   "execution_count": 27,
   "metadata": {},
   "outputs": [
    {
     "data": {
      "text/html": [
       "<div>\n",
       "<table border=\"1\" class=\"dataframe\">\n",
       "  <thead>\n",
       "    <tr style=\"text-align: right;\">\n",
       "      <th></th>\n",
       "      <th>wash</th>\n",
       "      <th>sampler</th>\n",
       "      <th>oil</th>\n",
       "    </tr>\n",
       "  </thead>\n",
       "  <tbody>\n",
       "    <tr>\n",
       "      <th>prime</th>\n",
       "      <td>1.0</td>\n",
       "      <td>13.0</td>\n",
       "      <td>1.53</td>\n",
       "    </tr>\n",
       "    <tr>\n",
       "      <th>beads</th>\n",
       "      <td>1.0</td>\n",
       "      <td>0.5</td>\n",
       "      <td>1.53</td>\n",
       "    </tr>\n",
       "    <tr>\n",
       "      <th>flush</th>\n",
       "      <td>13.0</td>\n",
       "      <td>1.0</td>\n",
       "      <td>15.00</td>\n",
       "    </tr>\n",
       "  </tbody>\n",
       "</table>\n",
       "</div>"
      ],
      "text/plain": [
       "       wash  sampler    oil\n",
       "prime   1.0     13.0   1.53\n",
       "beads   1.0      0.5   1.53\n",
       "flush  13.0      1.0  15.00"
      ]
     },
     "execution_count": 27,
     "metadata": {},
     "output_type": "execute_result"
    }
   ],
   "source": [
    "closed_pressure = 1.0\n",
    "p_table = pd.DataFrame(columns=['wash','sampler','oil'], index=['prime','beads','flush']).fillna(closed_pressure)\n",
    "p_table.loc['prime','sampler'] = 13.0\n",
    "p_table.loc[['prime','beads'],'oil'] = 1.53  # beads pressure (will be adjusted on i=0)\n",
    "p_table.loc['beads','sampler'] = .5  # beads pressure (will be adjusted on i=0)\n",
    "p_table.loc['flush','wash'] = 13.0\n",
    "p_table.loc['flush','oil'] = 15.0\n",
    "p_table"
   ]
  },
  {
   "cell_type": "code",
   "execution_count": 31,
   "metadata": {},
   "outputs": [
    {
     "name": "stdout",
     "output_type": "stream",
     "text": [
      "20171107_14:09:03 SETUP\n",
      "20171107_14:09:08 sampler at home\n",
      "20171107_14:09:12 collector at plate::name=waste1\n",
      "20171107_14:09:12 FLUSH\n",
      "20171107_14:09:14 flushing back 30 sec\n",
      "20171107_14:09:18 sampler at wash::contents=water\n",
      "20171107_14:09:48 flushing forward 30 sec\n",
      "20171107_14:09:56 sampler at wash::contents=ipa\n",
      "20171107_14:10:08 sampler at wash::contents=water\n",
      "20171107_14:10:26 purging air 5 sec\n",
      "20171107_14:10:31 setup in 87.5009999275 sec; bulb is ready (0 minimum)\n",
      "20171107_14:10:31 13 PRIME B02 bk\n",
      "20171107_14:10:44 sampler at plate::well=B02 c=bk\n",
      "20171107_14:11:14 loading blank code...\n",
      "20171107_14:11:14 manually adjusting pressures...\n",
      "position scope to OUT; press enter when drops are stable\n",
      "20171107_14:15:52 FLUSH\n",
      "20171107_14:15:54 flushing back 30 sec\n",
      "20171107_14:16:07 sampler at wash::contents=water\n",
      "20171107_14:16:37 flushing forward 30 sec\n",
      "20171107_14:16:45 sampler at wash::contents=ipa\n",
      "20171107_14:16:57 sampler at wash::contents=water\n",
      "20171107_14:17:15 0 PRIME A01 eu\n",
      "20171107_14:17:29 sampler at plate::well=A01 c=eu\n",
      "20171107_14:18:05 0 BEADS A01 eu\n",
      "20171107_14:18:09 collector at plate::vial=1 c=eu\n",
      "20171107_14:18:09 stabilizing vial=1 eu for 40 sec\n",
      "20171107_14:18:49 polymerizing vial=1 eu for 300 sec\n",
      "20171107_14:23:49 FLUSH\n",
      "20171107_14:23:51 flushing back 25 sec\n",
      "20171107_14:24:04 sampler at wash::contents=water\n",
      "20171107_14:24:29 flushing forward 30 sec\n",
      "20171107_14:24:36 sampler at wash::contents=ipa\n",
      "20171107_14:24:48 sampler at wash::contents=water\n",
      "20171107_14:25:06 1 PRIME A02 dy\n",
      "20171107_14:25:19 sampler at plate::well=A02 c=dy\n",
      "20171107_14:25:55 1 BEADS A02 dy\n",
      "20171107_14:26:00 collector at plate::vial=2 c=dy\n",
      "20171107_14:26:00 stabilizing vial=2 dy for 40 sec\n",
      "20171107_14:26:40 polymerizing vial=2 dy for 300 sec\n",
      "20171107_14:31:41 FLUSH\n",
      "20171107_14:31:43 flushing back 25 sec\n",
      "20171107_14:31:55 sampler at wash::contents=water\n",
      "20171107_14:32:20 flushing forward 30 sec\n",
      "20171107_14:32:28 sampler at wash::contents=ipa\n",
      "20171107_14:32:39 sampler at wash::contents=water\n",
      "20171107_14:32:57 2 PRIME A03 sm\n",
      "20171107_14:33:09 sampler at plate::well=A03 c=sm\n",
      "20171107_14:33:45 2 BEADS A03 sm\n",
      "20171107_14:33:50 collector at plate::vial=3 c=sm\n",
      "20171107_14:33:50 stabilizing vial=3 sm for 40 sec\n",
      "20171107_14:34:30 polymerizing vial=3 sm for 300 sec\n",
      "20171107_14:39:30 FLUSH\n",
      "20171107_14:39:32 flushing back 25 sec\n",
      "20171107_14:39:45 sampler at wash::contents=water\n",
      "20171107_14:40:10 flushing forward 30 sec\n",
      "20171107_14:40:17 sampler at wash::contents=ipa\n",
      "20171107_14:40:29 sampler at wash::contents=water\n",
      "20171107_14:40:47 3 PRIME D06 eu\n",
      "20171107_14:41:01 sampler at plate::well=D06 c=eu\n",
      "20171107_14:41:37 3 BEADS D06 eu\n",
      "20171107_14:41:41 collector at plate::vial=4 c=eu\n",
      "20171107_14:41:41 stabilizing vial=4 eu for 40 sec\n",
      "20171107_14:42:21 polymerizing vial=4 eu for 300 sec\n",
      "20171107_14:47:21 FLUSH\n",
      "20171107_14:47:23 flushing back 25 sec\n",
      "20171107_14:47:39 sampler at wash::contents=water\n",
      "20171107_14:48:04 flushing forward 30 sec\n",
      "20171107_14:48:12 sampler at wash::contents=ipa\n",
      "20171107_14:48:24 sampler at wash::contents=water\n",
      "20171107_14:48:42 4 PRIME D07 dy\n",
      "20171107_14:48:56 sampler at plate::well=D07 c=dy\n",
      "20171107_14:49:32 4 BEADS D07 dy\n",
      "20171107_14:49:37 collector at plate::vial=5 c=dy\n",
      "20171107_14:49:37 stabilizing vial=5 dy for 40 sec\n",
      "20171107_14:50:17 polymerizing vial=5 dy for 300 sec\n",
      "20171107_14:55:17 FLUSH\n",
      "20171107_14:55:19 flushing back 25 sec\n",
      "20171107_14:55:36 sampler at wash::contents=water\n",
      "20171107_14:56:01 flushing forward 30 sec\n",
      "20171107_14:56:08 sampler at wash::contents=ipa\n",
      "20171107_14:56:20 sampler at wash::contents=water\n",
      "20171107_14:56:38 5 PRIME D08 sm\n",
      "20171107_14:56:52 sampler at plate::well=D08 c=sm\n",
      "20171107_14:57:28 5 BEADS D08 sm\n",
      "20171107_14:57:33 collector at plate::vial=6 c=sm\n",
      "20171107_14:57:33 stabilizing vial=6 sm for 40 sec\n",
      "20171107_14:58:13 polymerizing vial=6 sm for 300 sec\n",
      "20171107_15:03:13 FLUSH\n",
      "20171107_15:03:16 flushing back 25 sec\n",
      "20171107_15:03:32 sampler at wash::contents=water\n",
      "20171107_15:03:57 flushing forward 30 sec\n",
      "20171107_15:04:05 sampler at wash::contents=ipa\n",
      "20171107_15:04:17 sampler at wash::contents=water\n",
      "20171107_15:04:34 6 PRIME H10 eu\n",
      "20171107_15:04:54 sampler at plate::well=H10 c=eu\n",
      "20171107_15:05:30 6 BEADS H10 eu\n",
      "20171107_15:05:34 collector at plate::vial=7 c=eu\n",
      "20171107_15:05:34 stabilizing vial=7 eu for 40 sec\n",
      "20171107_15:06:14 polymerizing vial=7 eu for 300 sec\n",
      "20171107_15:11:14 FLUSH\n",
      "20171107_15:11:16 flushing back 25 sec\n",
      "20171107_15:11:38 sampler at wash::contents=water\n",
      "20171107_15:12:03 flushing forward 30 sec\n",
      "20171107_15:12:11 sampler at wash::contents=ipa\n",
      "20171107_15:12:23 sampler at wash::contents=water\n",
      "20171107_15:12:40 7 PRIME H11 dy\n",
      "20171107_15:13:00 sampler at plate::well=H11 c=dy\n",
      "20171107_15:13:36 7 BEADS H11 dy\n",
      "20171107_15:13:41 collector at plate::vial=8 c=dy\n",
      "20171107_15:13:41 stabilizing vial=8 dy for 40 sec\n",
      "20171107_15:14:21 polymerizing vial=8 dy for 300 sec\n",
      "20171107_15:19:22 FLUSH\n",
      "20171107_15:19:24 flushing back 25 sec\n",
      "20171107_15:19:46 sampler at wash::contents=water\n",
      "20171107_15:20:11 flushing forward 30 sec\n",
      "20171107_15:20:18 sampler at wash::contents=ipa\n",
      "20171107_15:20:30 sampler at wash::contents=water\n",
      "20171107_15:20:48 8 PRIME H12 sm\n",
      "20171107_15:21:07 sampler at plate::well=H12 c=sm\n",
      "20171107_15:21:43 8 BEADS H12 sm\n",
      "20171107_15:21:49 collector at plate::vial=9 c=sm\n",
      "20171107_15:21:49 stabilizing vial=9 sm for 40 sec\n",
      "20171107_15:22:29 polymerizing vial=9 sm for 300 sec\n",
      "20171107_15:27:29 FLUSH\n",
      "20171107_15:27:31 flushing back 25 sec\n",
      "20171107_15:27:53 sampler at wash::contents=water\n",
      "20171107_15:28:18 flushing forward 30 sec\n",
      "20171107_15:28:26 sampler at wash::contents=ipa\n",
      "20171107_15:28:38 sampler at wash::contents=water\n",
      "20171107_15:28:55 CLEANUP\n",
      "20171107_15:28:58 collector at plate::name=waste2\n",
      "20171107_15:28:58 FLUSH\n",
      "20171107_15:29:00 flushing back 20 sec\n",
      "20171107_15:29:15 sampler at wash::contents=water\n",
      "20171107_15:29:35 flushing forward 20 sec\n",
      "20171107_15:29:42 sampler at wash::contents=ipa\n",
      "20171107_15:29:54 sampler at wash::contents=water\n",
      "20171107_15:30:16 sampler at wash::name=waste\n",
      "20171107_15:30:16 DONE\n"
     ]
    }
   ],
   "source": [
    "# RUN!!!\n",
    "l = []  # log\n",
    "vial_start = 1 # starting collector vial\n",
    "\n",
    "setup(0,5, code_blank)\n",
    "\n",
    "for i, code in codemap.iterrows():\n",
    "    vial = vial_start + i  # code.name = i; vial where the fc will collect\n",
    "    prime(code, 30)\n",
    "    beads(code, vial, 40, 60*5)\n",
    "    flush(25, 30)\n",
    "\n",
    "cleanup(0)"
   ]
  },
  {
   "cell_type": "code",
   "execution_count": 26,
   "metadata": {},
   "outputs": [
    {
     "name": "stdout",
     "output_type": "stream",
     "text": [
      "20171106_17:45:38 FLUSH\n",
      "20171106_17:45:40 flushing back 30 sec\n",
      "20171106_17:45:45 sampler at wash::contents=water\n",
      "20171106_17:46:15 flushing forward 30 sec\n",
      "20171106_17:46:23 sampler at wash::contents=ipa\n",
      "20171106_17:46:35 sampler at wash::contents=water\n"
     ]
    }
   ],
   "source": [
    "l=[]\n",
    "flush(30,30)"
   ]
  },
  {
   "cell_type": "code",
   "execution_count": 23,
   "metadata": {},
   "outputs": [
    {
     "data": {
      "text/html": [
       "<div>\n",
       "<table border=\"1\" class=\"dataframe\">\n",
       "  <thead>\n",
       "    <tr style=\"text-align: right;\">\n",
       "      <th></th>\n",
       "      <th>n</th>\n",
       "      <th>s</th>\n",
       "      <th>r</th>\n",
       "      <th>c</th>\n",
       "      <th>pos</th>\n",
       "      <th>contents</th>\n",
       "      <th>x</th>\n",
       "      <th>y</th>\n",
       "      <th>z</th>\n",
       "    </tr>\n",
       "  </thead>\n",
       "  <tbody>\n",
       "    <tr>\n",
       "      <th>0</th>\n",
       "      <td>0</td>\n",
       "      <td>0</td>\n",
       "      <td>0</td>\n",
       "      <td>0</td>\n",
       "      <td>A01</td>\n",
       "      <td>waste</td>\n",
       "      <td>8.192</td>\n",
       "      <td>-18.952</td>\n",
       "      <td>37.7</td>\n",
       "    </tr>\n",
       "    <tr>\n",
       "      <th>1</th>\n",
       "      <td>1</td>\n",
       "      <td>1</td>\n",
       "      <td>0</td>\n",
       "      <td>1</td>\n",
       "      <td>A02</td>\n",
       "      <td>ipa</td>\n",
       "      <td>36.567</td>\n",
       "      <td>-18.952</td>\n",
       "      <td>37.7</td>\n",
       "    </tr>\n",
       "    <tr>\n",
       "      <th>2</th>\n",
       "      <td>2</td>\n",
       "      <td>2</td>\n",
       "      <td>0</td>\n",
       "      <td>2</td>\n",
       "      <td>A03</td>\n",
       "      <td>water</td>\n",
       "      <td>64.942</td>\n",
       "      <td>-18.952</td>\n",
       "      <td>37.7</td>\n",
       "    </tr>\n",
       "    <tr>\n",
       "      <th>3</th>\n",
       "      <td>3</td>\n",
       "      <td>3</td>\n",
       "      <td>0</td>\n",
       "      <td>3</td>\n",
       "      <td>A04</td>\n",
       "      <td>NaN</td>\n",
       "      <td>93.317</td>\n",
       "      <td>-18.952</td>\n",
       "      <td>37.7</td>\n",
       "    </tr>\n",
       "  </tbody>\n",
       "</table>\n",
       "</div>"
      ],
      "text/plain": [
       "   n  s  r  c  pos contents       x       y     z\n",
       "0  0  0  0  0  A01    waste   8.192 -18.952  37.7\n",
       "1  1  1  0  1  A02      ipa  36.567 -18.952  37.7\n",
       "2  2  2  0  2  A03    water  64.942 -18.952  37.7\n",
       "3  3  3  0  3  A04      NaN  93.317 -18.952  37.7"
      ]
     },
     "execution_count": 23,
     "metadata": {},
     "output_type": "execute_result"
    }
   ],
   "source": [
    "a.frames.wash.position_table"
   ]
  },
  {
   "cell_type": "code",
   "execution_count": 24,
   "metadata": {},
   "outputs": [],
   "source": [
    "a.goto('wash', 'pos', 'A01', zh_travel=30)"
   ]
  },
  {
   "cell_type": "code",
   "execution_count": 17,
   "metadata": {
    "collapsed": true
   },
   "outputs": [],
   "source": [
    "for k, v in p_table.loc['beads'].iteritems():\n",
    "    p.set('name', k, v)\n",
    "a.goto('plate', 'n', 13, zh_travel=30)\n"
   ]
  },
  {
   "cell_type": "code",
   "execution_count": 67,
   "metadata": {
    "collapsed": true
   },
   "outputs": [],
   "source": [
    "bulb(0)"
   ]
  },
  {
   "cell_type": "code",
   "execution_count": 24,
   "metadata": {},
   "outputs": [
    {
     "name": "stdout",
     "output_type": "stream",
     "text": [
      "Closed connection to device with SN 1149\n",
      "MFCS library released\n"
     ]
    }
   ],
   "source": [
    "del p"
   ]
  },
  {
   "cell_type": "markdown",
   "metadata": {},
   "source": [
    "input: 25 ul\n",
    "output: 20 ul\n",
    "\n",
    "5 psi wash (tygon with pin)\n",
    "- backflush: 3.4 ul/sec * 20 sec = 68 ul\n",
    "- forward flush: 3.4 ul/sec * 20 sec = 68 ul\n",
    "\n",
    "7.5 psi sampler (255 um dia)\n",
    "- prime: ~4.75 ul/sec * 12 sec = 57 ul\n",
    "\n",
    "15 psi r0 (tygon with pin)\n",
    "- flush: 1.9 ul/sec * 40 = 76 ul"
   ]
  }
 ],
 "metadata": {
  "kernelspec": {
   "display_name": "Python 2",
   "language": "python",
   "name": "python2"
  },
  "language_info": {
   "codemirror_mode": {
    "name": "ipython",
    "version": 2
   },
   "file_extension": ".py",
   "mimetype": "text/x-python",
   "name": "python",
   "nbconvert_exporter": "python",
   "pygments_lexer": "ipython2",
   "version": "2.7.14"
  }
 },
 "nbformat": 4,
 "nbformat_minor": 2
}
